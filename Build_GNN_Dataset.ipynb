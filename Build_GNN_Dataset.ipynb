{
 "cells": [
  {
   "cell_type": "code",
   "execution_count": 1,
   "metadata": {},
   "outputs": [],
   "source": [
    "import networkx as nx\n",
    "import numpy as np\n",
    "import pandas as pd\n",
    "from torch_geometric.loader import DataLoader\n",
    "\n",
    "import graph_learning\n",
    "import utils"
   ]
  },
  {
   "cell_type": "code",
   "execution_count": 10,
   "metadata": {},
   "outputs": [],
   "source": [
    "df_syn = utils.get_synergyage_subset_with_biogrid_gene_names()\n",
    "df_biogrid = utils.load_biogrid()\n",
    "\n",
    "data_list = utils.build_datalist(df_syn, df_biogrid)\n",
    "utils.save_datalist(data_list, \"synergyage_0\", override=True)"
   ]
  },
  {
   "cell_type": "code",
   "execution_count": 8,
   "metadata": {},
   "outputs": [],
   "source": [
    "data_list = utils.load_datalist(\"./data/datalists/synergyage_0\")"
   ]
  },
  {
   "cell_type": "code",
   "execution_count": 7,
   "metadata": {},
   "outputs": [],
   "source": [
    "# SAMPLE_SIZE = 100\n",
    "NUM_EPOCHS = 30\n",
    "BATCH_SIZE = 256\n",
    "\n",
    "loader: DataLoader = graph_learning.loader_from_datalist(data_list, batch_size=BATCH_SIZE)"
   ]
  },
  {
   "cell_type": "code",
   "execution_count": 8,
   "metadata": {},
   "outputs": [
    {
     "name": "stdout",
     "output_type": "stream",
     "text": [
      "[Epoch 1/30] Loss: 1.0929 | Train: 0.22 0.22 0.22 | Test: 0.22 0.22 0.22\n",
      "[Epoch 2/30] Loss: 1.0907 | Train: 0.22 0.22 0.22 | Test: 0.22 0.22 0.22\n",
      "[Epoch 3/30] Loss: 1.0886 | Train: 0.22 0.22 0.22 | Test: 0.22 0.22 0.22\n",
      "[Epoch 4/30] Loss: 1.0863 | Train: 0.22 0.22 0.22 | Test: 0.22 0.22 0.22\n",
      "[Epoch 5/30] Loss: 1.0840 | Train: 0.22 0.22 0.22 | Test: 0.22 0.22 0.22\n",
      "[Epoch 6/30] Loss: 1.0815 | Train: 0.22 0.22 0.22 | Test: 0.22 0.22 0.22\n",
      "[Epoch 7/30] Loss: 1.0788 | Train: 0.22 0.22 0.22 | Test: 0.22 0.22 0.22\n",
      "[Epoch 8/30] Loss: 1.0760 | Train: 0.22 0.22 0.22 | Test: 0.22 0.22 0.22\n",
      "[Epoch 9/30] Loss: 1.0730 | Train: 0.22 0.22 0.22 | Test: 0.22 0.22 0.22\n",
      "[Epoch 10/30] Loss: 1.0699 | Train: 0.67 0.67 0.67 | Test: 0.67 0.67 0.67\n",
      "[Epoch 11/30] Loss: 1.0666 | Train: 0.67 0.67 0.67 | Test: 0.67 0.67 0.67\n",
      "[Epoch 12/30] Loss: 1.0632 | Train: 0.67 0.67 0.67 | Test: 0.67 0.67 0.67\n",
      "[Epoch 13/30] Loss: 1.0595 | Train: 0.67 0.67 0.67 | Test: 0.67 0.67 0.67\n",
      "[Epoch 14/30] Loss: 1.0557 | Train: 0.67 0.67 0.67 | Test: 0.67 0.67 0.67\n",
      "[Epoch 15/30] Loss: 1.0518 | Train: 0.67 0.67 0.67 | Test: 0.67 0.67 0.67\n",
      "[Epoch 16/30] Loss: 1.0476 | Train: 0.67 0.67 0.67 | Test: 0.67 0.67 0.67\n",
      "[Epoch 17/30] Loss: 1.0433 | Train: 0.67 0.67 0.67 | Test: 0.67 0.67 0.67\n",
      "[Epoch 18/30] Loss: 1.0388 | Train: 0.67 0.67 0.67 | Test: 0.67 0.67 0.67\n",
      "[Epoch 19/30] Loss: 1.0341 | Train: 0.67 0.67 0.67 | Test: 0.67 0.67 0.67\n",
      "[Epoch 20/30] Loss: 1.0293 | Train: 0.67 0.67 0.67 | Test: 0.67 0.67 0.67\n",
      "[Epoch 21/30] Loss: 1.0243 | Train: 0.67 0.67 0.67 | Test: 0.67 0.67 0.67\n",
      "[Epoch 22/30] Loss: 1.0191 | Train: 0.67 0.67 0.67 | Test: 0.67 0.67 0.67\n",
      "[Epoch 23/30] Loss: 1.0138 | Train: 0.67 0.67 0.67 | Test: 0.67 0.67 0.67\n",
      "[Epoch 24/30] Loss: 1.0084 | Train: 0.67 0.67 0.67 | Test: 0.67 0.67 0.67\n",
      "[Epoch 25/30] Loss: 1.0029 | Train: 0.67 0.67 0.67 | Test: 0.67 0.67 0.67\n",
      "[Epoch 26/30] Loss: 0.9972 | Train: 0.67 0.67 0.67 | Test: 0.67 0.67 0.67\n",
      "[Epoch 27/30] Loss: 0.9915 | Train: 0.67 0.67 0.67 | Test: 0.67 0.67 0.67\n",
      "[Epoch 28/30] Loss: 0.9858 | Train: 0.67 0.67 0.67 | Test: 0.67 0.67 0.67\n",
      "[Epoch 29/30] Loss: 0.9800 | Train: 0.67 0.67 0.67 | Test: 0.67 0.67 0.67\n",
      "[Epoch 30/30] Loss: 0.9743 | Train: 0.67 0.67 0.67 | Test: 0.67 0.67 0.67\n"
     ]
    }
   ],
   "source": [
    "model = graph_learning.create_GNN_model(1, 10, 3)\n",
    "graph_learning.train_graph_classification(model, loader, loader, num_epochs = NUM_EPOCHS)"
   ]
  },
  {
   "cell_type": "code",
   "execution_count": 13,
   "metadata": {},
   "outputs": [],
   "source": [
    "data = data_list[0]"
   ]
  },
  {
   "cell_type": "code",
   "execution_count": 18,
   "metadata": {},
   "outputs": [],
   "source": [
    "data.gene_name = \"ABC\"\n",
    "torch.save(data, \"test.t\")"
   ]
  },
  {
   "cell_type": "code",
   "execution_count": 19,
   "metadata": {},
   "outputs": [
    {
     "data": {
      "text/plain": [
       "Data(edge_index=[2, 70425], x=[8273, 1], y=[3], gene_name='ABC')"
      ]
     },
     "execution_count": 19,
     "metadata": {},
     "output_type": "execute_result"
    }
   ],
   "source": [
    "torch.load(\"test.t\")"
   ]
  },
  {
   "cell_type": "code",
   "execution_count": null,
   "metadata": {},
   "outputs": [],
   "source": []
  }
 ],
 "metadata": {
  "interpreter": {
   "hash": "7187b68757462448673d9b0c12050c39591ce7281567da7b84259581a46b0c3d"
  },
  "kernelspec": {
   "display_name": "Python 3.8.12 64-bit ('gnn': conda)",
   "language": "python",
   "name": "python3"
  },
  "language_info": {
   "codemirror_mode": {
    "name": "ipython",
    "version": 3
   },
   "file_extension": ".py",
   "mimetype": "text/x-python",
   "name": "python",
   "nbconvert_exporter": "python",
   "pygments_lexer": "ipython3",
   "version": "3.8.12"
  },
  "orig_nbformat": 4
 },
 "nbformat": 4,
 "nbformat_minor": 2
}
