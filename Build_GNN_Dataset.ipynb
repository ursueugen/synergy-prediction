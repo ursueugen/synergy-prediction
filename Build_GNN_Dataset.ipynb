{
 "cells": [
  {
   "cell_type": "code",
   "execution_count": 1,
   "metadata": {},
   "outputs": [],
   "source": [
    "import networkx as nx\n",
    "import numpy as np\n",
    "import pandas as pd\n",
    "import torch\n",
    "import torch_geometric.utils as geo_utils\n",
    "from torch_geometric.loader import DataLoader\n",
    "\n",
    "\n",
    "from utils import *\n",
    "import graph_learning"
   ]
  },
  {
   "cell_type": "code",
   "execution_count": 2,
   "metadata": {},
   "outputs": [
    {
     "data": {
      "text/html": [
       "<div>\n",
       "<style scoped>\n",
       "    .dataframe tbody tr th:only-of-type {\n",
       "        vertical-align: middle;\n",
       "    }\n",
       "\n",
       "    .dataframe tbody tr th {\n",
       "        vertical-align: top;\n",
       "    }\n",
       "\n",
       "    .dataframe thead th {\n",
       "        text-align: right;\n",
       "    }\n",
       "</style>\n",
       "<table border=\"1\" class=\"dataframe\">\n",
       "  <thead>\n",
       "    <tr style=\"text-align: right;\">\n",
       "      <th></th>\n",
       "      <th>Unnamed: 0</th>\n",
       "      <th>Pubmed ID</th>\n",
       "      <th>Temperature</th>\n",
       "      <th>Diet</th>\n",
       "      <th>Details</th>\n",
       "      <th>Wild type lifespan (days)</th>\n",
       "      <th>Gene 1</th>\n",
       "      <th>Intervention on gene 1</th>\n",
       "      <th>Gene 1 single mutant lifespan (days)</th>\n",
       "      <th>Gene(s) 2(,3)</th>\n",
       "      <th>...</th>\n",
       "      <th>Double (triple) mutant (genes 1,2,(3)) lifespan (days)</th>\n",
       "      <th>Phenotype description</th>\n",
       "      <th>Organism</th>\n",
       "      <th>genes</th>\n",
       "      <th>genes_str</th>\n",
       "      <th>num_genes</th>\n",
       "      <th>FC</th>\n",
       "      <th>LOGFC</th>\n",
       "      <th>PERCENT_CHANGE</th>\n",
       "      <th>LIFESPAN_CLASS</th>\n",
       "    </tr>\n",
       "  </thead>\n",
       "  <tbody>\n",
       "    <tr>\n",
       "      <th>0</th>\n",
       "      <td>0</td>\n",
       "      <td>19461873</td>\n",
       "      <td>25</td>\n",
       "      <td>OP50</td>\n",
       "      <td>�Late L4 larvae growing at 20�C were transferr...</td>\n",
       "      <td>13.6</td>\n",
       "      <td>hif-1</td>\n",
       "      <td>RNAi</td>\n",
       "      <td>16.1</td>\n",
       "      <td>daf-16</td>\n",
       "      <td>...</td>\n",
       "      <td>12.4</td>\n",
       "      <td>Lifespan extension by�hif-1�did not require DA...</td>\n",
       "      <td>6239</td>\n",
       "      <td>('daf-16', 'hif-1')</td>\n",
       "      <td>daf-16;hif-1</td>\n",
       "      <td>2</td>\n",
       "      <td>0.911765</td>\n",
       "      <td>-0.133267</td>\n",
       "      <td>-0.088235</td>\n",
       "      <td>NS</td>\n",
       "    </tr>\n",
       "  </tbody>\n",
       "</table>\n",
       "<p>1 rows × 22 columns</p>\n",
       "</div>"
      ],
      "text/plain": [
       "   Unnamed: 0  Pubmed ID Temperature  Diet  \\\n",
       "0           0   19461873          25  OP50   \n",
       "\n",
       "                                             Details  \\\n",
       "0  �Late L4 larvae growing at 20�C were transferr...   \n",
       "\n",
       "   Wild type lifespan (days) Gene 1 Intervention on gene 1  \\\n",
       "0                       13.6  hif-1                   RNAi   \n",
       "\n",
       "   Gene 1 single mutant lifespan (days) Gene(s) 2(,3)  ...  \\\n",
       "0                                  16.1        daf-16  ...   \n",
       "\n",
       "  Double (triple) mutant (genes 1,2,(3)) lifespan (days)  \\\n",
       "0                                               12.4       \n",
       "\n",
       "                               Phenotype description  Organism  \\\n",
       "0  Lifespan extension by�hif-1�did not require DA...      6239   \n",
       "\n",
       "                 genes     genes_str num_genes        FC     LOGFC  \\\n",
       "0  ('daf-16', 'hif-1')  daf-16;hif-1         2  0.911765 -0.133267   \n",
       "\n",
       "   PERCENT_CHANGE  LIFESPAN_CLASS  \n",
       "0       -0.088235              NS  \n",
       "\n",
       "[1 rows x 22 columns]"
      ]
     },
     "execution_count": 2,
     "metadata": {},
     "output_type": "execute_result"
    }
   ],
   "source": [
    "df_syn = load_synergyage()\n",
    "df_syn.head(1)"
   ]
  },
  {
   "cell_type": "code",
   "execution_count": 3,
   "metadata": {},
   "outputs": [
    {
     "data": {
      "text/html": [
       "<div>\n",
       "<style scoped>\n",
       "    .dataframe tbody tr th:only-of-type {\n",
       "        vertical-align: middle;\n",
       "    }\n",
       "\n",
       "    .dataframe tbody tr th {\n",
       "        vertical-align: top;\n",
       "    }\n",
       "\n",
       "    .dataframe thead th {\n",
       "        text-align: right;\n",
       "    }\n",
       "</style>\n",
       "<table border=\"1\" class=\"dataframe\">\n",
       "  <thead>\n",
       "    <tr style=\"text-align: right;\">\n",
       "      <th></th>\n",
       "      <th>#BioGRID Interaction ID</th>\n",
       "      <th>Entrez Gene Interactor A</th>\n",
       "      <th>Entrez Gene Interactor B</th>\n",
       "      <th>BioGRID ID Interactor A</th>\n",
       "      <th>BioGRID ID Interactor B</th>\n",
       "      <th>Systematic Name Interactor A</th>\n",
       "      <th>Systematic Name Interactor B</th>\n",
       "      <th>Official Symbol Interactor A</th>\n",
       "      <th>Official Symbol Interactor B</th>\n",
       "      <th>Synonyms Interactor A</th>\n",
       "      <th>...</th>\n",
       "      <th>TREMBL Accessions Interactor B</th>\n",
       "      <th>REFSEQ Accessions Interactor B</th>\n",
       "      <th>Ontology Term IDs</th>\n",
       "      <th>Ontology Term Names</th>\n",
       "      <th>Ontology Term Categories</th>\n",
       "      <th>Ontology Term Qualifier IDs</th>\n",
       "      <th>Ontology Term Qualifier Names</th>\n",
       "      <th>Ontology Term Types</th>\n",
       "      <th>Organism Name Interactor A</th>\n",
       "      <th>Organism Name Interactor B</th>\n",
       "    </tr>\n",
       "  </thead>\n",
       "  <tbody>\n",
       "    <tr>\n",
       "      <th>0</th>\n",
       "      <td>63578</td>\n",
       "      <td>177286</td>\n",
       "      <td>179791</td>\n",
       "      <td>42412</td>\n",
       "      <td>44810</td>\n",
       "      <td>CELE_AC7.2</td>\n",
       "      <td>CELE_W07G4.5</td>\n",
       "      <td>soc-2</td>\n",
       "      <td>W07G4.5</td>\n",
       "      <td>-</td>\n",
       "      <td>...</td>\n",
       "      <td>Q1HB02</td>\n",
       "      <td>NP_506261</td>\n",
       "      <td>-</td>\n",
       "      <td>-</td>\n",
       "      <td>-</td>\n",
       "      <td>-</td>\n",
       "      <td>-</td>\n",
       "      <td>-</td>\n",
       "      <td>Caenorhabditis elegans</td>\n",
       "      <td>Caenorhabditis elegans</td>\n",
       "    </tr>\n",
       "  </tbody>\n",
       "</table>\n",
       "<p>1 rows × 37 columns</p>\n",
       "</div>"
      ],
      "text/plain": [
       "   #BioGRID Interaction ID  Entrez Gene Interactor A  \\\n",
       "0                    63578                    177286   \n",
       "\n",
       "   Entrez Gene Interactor B  BioGRID ID Interactor A  BioGRID ID Interactor B  \\\n",
       "0                    179791                    42412                    44810   \n",
       "\n",
       "  Systematic Name Interactor A Systematic Name Interactor B  \\\n",
       "0                   CELE_AC7.2                 CELE_W07G4.5   \n",
       "\n",
       "  Official Symbol Interactor A Official Symbol Interactor B  \\\n",
       "0                        soc-2                      W07G4.5   \n",
       "\n",
       "  Synonyms Interactor A  ... TREMBL Accessions Interactor B  \\\n",
       "0                     -  ...                         Q1HB02   \n",
       "\n",
       "  REFSEQ Accessions Interactor B Ontology Term IDs Ontology Term Names  \\\n",
       "0                      NP_506261                 -                   -   \n",
       "\n",
       "  Ontology Term Categories  Ontology Term Qualifier IDs  \\\n",
       "0                        -                            -   \n",
       "\n",
       "   Ontology Term Qualifier Names Ontology Term Types  \\\n",
       "0                              -                   -   \n",
       "\n",
       "  Organism Name Interactor A Organism Name Interactor B  \n",
       "0     Caenorhabditis elegans     Caenorhabditis elegans  \n",
       "\n",
       "[1 rows x 37 columns]"
      ]
     },
     "execution_count": 3,
     "metadata": {},
     "output_type": "execute_result"
    }
   ],
   "source": [
    "df_biogrid = load_biogrid()\n",
    "df_biogrid.head(1)"
   ]
  },
  {
   "cell_type": "code",
   "execution_count": 4,
   "metadata": {},
   "outputs": [],
   "source": [
    "def encode_intervention_class(intervention_class: str) -> torch.Tensor:        \n",
    "    if intervention_class == \"NS\":\n",
    "        code = [0, 1, 0]\n",
    "    elif intervention_class == \"PRO\":\n",
    "        code = [0, 0, 1]\n",
    "    elif intervention_class == \"ANTI\":\n",
    "        code = [1, 0 ,0]\n",
    "    else:\n",
    "        raise ValueError(f\"Intervention class {intervention_class} not recognized.\")\n",
    "    return torch.as_tensor(code).type(torch.LongTensor)\n",
    "\n",
    "\n",
    "# 0) Clean df_synergy (current setup):\n",
    "#    a) Remove genes not in biogrid\n",
    "biogrid_genes = get_biogrid_gene_names(df_biogrid)\n",
    "# synergyage_genes = get_synergyage_genes(df_syn)\n",
    "selected = []\n",
    "for i, row in df_syn.iterrows():\n",
    "    genes = row[\"genes_str\"].split(\";\")\n",
    "    row_has_gene_not_in_biogrid = False\n",
    "    for gene in genes:\n",
    "        if gene not in biogrid_genes:\n",
    "            row_has_gene_not_in_biogrid = True\n",
    "            break\n",
    "    if row_has_gene_not_in_biogrid:\n",
    "        continue\n",
    "    else:\n",
    "        selected.append(i)\n",
    "df_syn = df_syn.iloc[selected, :].copy()\n",
    "#    b) remove duplicated interventions (later)\n",
    "\n",
    "# 1) Shuffle df_synergy\n",
    "df_syn = df_syn.iloc[np.random.permutation(len(df_syn)).tolist()].copy()"
   ]
  },
  {
   "cell_type": "code",
   "execution_count": 5,
   "metadata": {},
   "outputs": [],
   "source": [
    "# 2) Create array of graphs and target values\n",
    "SAMPLE_SIZE = 100\n",
    "graph_list = []\n",
    "target_list = []\n",
    "for i, row in df_syn.iloc[1:SAMPLE_SIZE].iterrows():\n",
    "    intervention_genes = row[\"genes_str\"].split(\";\")\n",
    "    # For removing the nodes that are KO\n",
    "    # biogrid_mask = ( (~df_biogrid[GENE_NAME_A_COL].isin(intervention_genes)) & (~df_biogrid[GENE_NAME_B_COL].isin(intervention_genes)))\n",
    "    # df_biogrid_trimmed = df_biogrid.loc[biogrid_mask].copy()\n",
    "\n",
    "    G = nx.from_pandas_edgelist(\n",
    "        df_biogrid[[GENE_NAME_A_COL, GENE_NAME_B_COL]],\n",
    "        source=GENE_NAME_A_COL,\n",
    "        target=GENE_NAME_B_COL,\n",
    "    )\n",
    "    for node in G.nodes:\n",
    "        if node in intervention_genes:\n",
    "            G.nodes[node][\"HAS_INTERVENTION\"] = 1\n",
    "        else:\n",
    "            G.nodes[node][\"HAS_INTERVENTION\"] = 0\n",
    "    graph_list.append(G)\n",
    "\n",
    "    class_encoded: torch.Tensor = encode_intervention_class(row[\"LIFESPAN_CLASS\"])\n",
    "    target_list.append(class_encoded)\n"
   ]
  },
  {
   "cell_type": "code",
   "execution_count": 6,
   "metadata": {},
   "outputs": [],
   "source": [
    "# 3) Create train and test datasets\n",
    "data_list = []\n",
    "for graph, target in zip(graph_list, target_list):\n",
    "    data = geo_utils.from_networkx(graph, group_node_attrs=[\"HAS_INTERVENTION\"])\n",
    "    data.x = data.x.type(torch.FloatTensor)\n",
    "    data.y = target\n",
    "    assert data.y.type() == 'torch.LongTensor'\n",
    "    data_list.append(data)"
   ]
  },
  {
   "cell_type": "code",
   "execution_count": 7,
   "metadata": {},
   "outputs": [],
   "source": [
    "NUM_EPOCHS = 30\n",
    "BATCH_SIZE = 16\n",
    "\n",
    "loader: DataLoader = graph_learning.loader_from_datalist(data_list, batch_size=BATCH_SIZE)"
   ]
  },
  {
   "cell_type": "code",
   "execution_count": 8,
   "metadata": {},
   "outputs": [
    {
     "name": "stdout",
     "output_type": "stream",
     "text": [
      "[Epoch 1/30] Loss: 0.6199766993522644 | Train: 0.731 | Test: 0.731\n",
      "[Epoch 2/30] Loss: 0.5366489887237549 | Train: 0.731 | Test: 0.731\n",
      "[Epoch 3/30] Loss: 0.4265824556350708 | Train: 0.731 | Test: 0.731\n",
      "[Epoch 4/30] Loss: 0.3177735209465027 | Train: 0.731 | Test: 0.731\n",
      "[Epoch 5/30] Loss: 0.2591545879840851 | Train: 0.731 | Test: 0.731\n",
      "[Epoch 6/30] Loss: 0.25237274169921875 | Train: 0.731 | Test: 0.731\n",
      "[Epoch 7/30] Loss: 0.2681034803390503 | Train: 0.731 | Test: 0.731\n",
      "[Epoch 8/30] Loss: 0.2830463647842407 | Train: 0.731 | Test: 0.731\n",
      "[Epoch 9/30] Loss: 0.2885567843914032 | Train: 0.731 | Test: 0.731\n",
      "[Epoch 10/30] Loss: 0.2866114377975464 | Train: 0.731 | Test: 0.731\n",
      "[Epoch 11/30] Loss: 0.2823527455329895 | Train: 0.731 | Test: 0.731\n",
      "[Epoch 12/30] Loss: 0.27947306632995605 | Train: 0.731 | Test: 0.731\n",
      "[Epoch 13/30] Loss: 0.278965026140213 | Train: 0.731 | Test: 0.731\n",
      "[Epoch 14/30] Loss: 0.2799716591835022 | Train: 0.731 | Test: 0.731\n",
      "[Epoch 15/30] Loss: 0.28121885657310486 | Train: 0.731 | Test: 0.731\n",
      "[Epoch 16/30] Loss: 0.2819265127182007 | Train: 0.731 | Test: 0.731\n",
      "[Epoch 17/30] Loss: 0.28198865056037903 | Train: 0.731 | Test: 0.731\n",
      "[Epoch 18/30] Loss: 0.28169193863868713 | Train: 0.731 | Test: 0.731\n",
      "[Epoch 19/30] Loss: 0.2813663184642792 | Train: 0.731 | Test: 0.731\n",
      "[Epoch 20/30] Loss: 0.28118404746055603 | Train: 0.731 | Test: 0.731\n"
     ]
    },
    {
     "ename": "KeyboardInterrupt",
     "evalue": "",
     "output_type": "error",
     "traceback": [
      "\u001b[0;31m---------------------------------------------------------------------------\u001b[0m",
      "\u001b[0;31mKeyboardInterrupt\u001b[0m                         Traceback (most recent call last)",
      "\u001b[0;32m/tmp/ipykernel_1623393/2118526280.py\u001b[0m in \u001b[0;36m<module>\u001b[0;34m\u001b[0m\n\u001b[1;32m      1\u001b[0m \u001b[0mmodel\u001b[0m \u001b[0;34m=\u001b[0m \u001b[0mgraph_learning\u001b[0m\u001b[0;34m.\u001b[0m\u001b[0mcreate_GNN_model\u001b[0m\u001b[0;34m(\u001b[0m\u001b[0;36m1\u001b[0m\u001b[0;34m,\u001b[0m \u001b[0;36m10\u001b[0m\u001b[0;34m,\u001b[0m \u001b[0;36m3\u001b[0m\u001b[0;34m)\u001b[0m\u001b[0;34m\u001b[0m\u001b[0;34m\u001b[0m\u001b[0m\n\u001b[0;32m----> 2\u001b[0;31m \u001b[0mgraph_learning\u001b[0m\u001b[0;34m.\u001b[0m\u001b[0mtrain_graph_classification\u001b[0m\u001b[0;34m(\u001b[0m\u001b[0mmodel\u001b[0m\u001b[0;34m,\u001b[0m \u001b[0mloader\u001b[0m\u001b[0;34m,\u001b[0m \u001b[0mloader\u001b[0m\u001b[0;34m,\u001b[0m \u001b[0mnum_epochs\u001b[0m \u001b[0;34m=\u001b[0m \u001b[0;36m30\u001b[0m\u001b[0;34m)\u001b[0m\u001b[0;34m\u001b[0m\u001b[0;34m\u001b[0m\u001b[0m\n\u001b[0m",
      "\u001b[0;32m/data/sources/synergy-prediction/graph_learning.py\u001b[0m in \u001b[0;36mtrain_graph_classification\u001b[0;34m(model, train_loader, test_loader, num_epochs)\u001b[0m\n\u001b[1;32m     89\u001b[0m \u001b[0;34m\u001b[0m\u001b[0m\n\u001b[1;32m     90\u001b[0m         \u001b[0;31m# Compute accuracies\u001b[0m\u001b[0;34m\u001b[0m\u001b[0;34m\u001b[0m\u001b[0;34m\u001b[0m\u001b[0m\n\u001b[0;32m---> 91\u001b[0;31m         \u001b[0macc_train\u001b[0m \u001b[0;34m=\u001b[0m \u001b[0mget_acc\u001b[0m\u001b[0;34m(\u001b[0m\u001b[0mmodel\u001b[0m\u001b[0;34m,\u001b[0m \u001b[0mtrain_loader\u001b[0m\u001b[0;34m)\u001b[0m\u001b[0;34m\u001b[0m\u001b[0;34m\u001b[0m\u001b[0m\n\u001b[0m\u001b[1;32m     92\u001b[0m         \u001b[0macc_test\u001b[0m \u001b[0;34m=\u001b[0m \u001b[0mget_acc\u001b[0m\u001b[0;34m(\u001b[0m\u001b[0mmodel\u001b[0m\u001b[0;34m,\u001b[0m \u001b[0mtest_loader\u001b[0m\u001b[0;34m)\u001b[0m\u001b[0;34m\u001b[0m\u001b[0;34m\u001b[0m\u001b[0m\n\u001b[1;32m     93\u001b[0m         \u001b[0mprint\u001b[0m\u001b[0;34m(\u001b[0m\u001b[0;34mf\"[Epoch {epoch+1}/{num_epochs}] Loss: {loss} | Train: {acc_train:.3f} | Test: {acc_test:.3f}\"\u001b[0m\u001b[0;34m)\u001b[0m\u001b[0;34m\u001b[0m\u001b[0;34m\u001b[0m\u001b[0m\n",
      "\u001b[0;32m/data/sources/synergy-prediction/graph_learning.py\u001b[0m in \u001b[0;36mget_acc\u001b[0;34m(model, loader)\u001b[0m\n\u001b[1;32m     74\u001b[0m         \u001b[0mn_ok\u001b[0m \u001b[0;34m=\u001b[0m \u001b[0;36m0\u001b[0m\u001b[0;34m\u001b[0m\u001b[0;34m\u001b[0m\u001b[0m\n\u001b[1;32m     75\u001b[0m         \u001b[0;32mfor\u001b[0m \u001b[0mdata\u001b[0m \u001b[0;32min\u001b[0m \u001b[0mloader\u001b[0m\u001b[0;34m:\u001b[0m\u001b[0;34m\u001b[0m\u001b[0;34m\u001b[0m\u001b[0m\n\u001b[0;32m---> 76\u001b[0;31m             \u001b[0mouts\u001b[0m \u001b[0;34m=\u001b[0m \u001b[0mmodel\u001b[0m\u001b[0;34m(\u001b[0m\u001b[0mdata\u001b[0m\u001b[0;34m.\u001b[0m\u001b[0mx\u001b[0m\u001b[0;34m,\u001b[0m \u001b[0mdata\u001b[0m\u001b[0;34m.\u001b[0m\u001b[0medge_index\u001b[0m\u001b[0;34m,\u001b[0m \u001b[0mdata\u001b[0m\u001b[0;34m.\u001b[0m\u001b[0mbatch\u001b[0m\u001b[0;34m)\u001b[0m\u001b[0;34m.\u001b[0m\u001b[0mreshape\u001b[0m\u001b[0;34m(\u001b[0m\u001b[0mdata\u001b[0m\u001b[0;34m.\u001b[0m\u001b[0my\u001b[0m\u001b[0;34m.\u001b[0m\u001b[0mshape\u001b[0m\u001b[0;34m[\u001b[0m\u001b[0;36m0\u001b[0m\u001b[0;34m]\u001b[0m\u001b[0;34m)\u001b[0m\u001b[0;34m\u001b[0m\u001b[0;34m\u001b[0m\u001b[0m\n\u001b[0m\u001b[1;32m     77\u001b[0m             \u001b[0mn_ok\u001b[0m \u001b[0;34m+=\u001b[0m \u001b[0;34m(\u001b[0m\u001b[0;34m(\u001b[0m\u001b[0mouts\u001b[0m\u001b[0;34m>\u001b[0m\u001b[0;36m0\u001b[0m\u001b[0;34m)\u001b[0m \u001b[0;34m==\u001b[0m \u001b[0mdata\u001b[0m\u001b[0;34m.\u001b[0m\u001b[0my\u001b[0m\u001b[0;34m)\u001b[0m\u001b[0;34m.\u001b[0m\u001b[0msum\u001b[0m\u001b[0;34m(\u001b[0m\u001b[0;34m)\u001b[0m\u001b[0;34m.\u001b[0m\u001b[0mitem\u001b[0m\u001b[0;34m(\u001b[0m\u001b[0;34m)\u001b[0m\u001b[0;34m\u001b[0m\u001b[0;34m\u001b[0m\u001b[0m\n\u001b[1;32m     78\u001b[0m             \u001b[0mn_total\u001b[0m \u001b[0;34m+=\u001b[0m \u001b[0mdata\u001b[0m\u001b[0;34m.\u001b[0m\u001b[0my\u001b[0m\u001b[0;34m.\u001b[0m\u001b[0mshape\u001b[0m\u001b[0;34m[\u001b[0m\u001b[0;36m0\u001b[0m\u001b[0;34m]\u001b[0m\u001b[0;34m\u001b[0m\u001b[0;34m\u001b[0m\u001b[0m\n",
      "\u001b[0;32m~/miniconda3/envs/gnn/lib/python3.8/site-packages/torch/nn/modules/module.py\u001b[0m in \u001b[0;36m_call_impl\u001b[0;34m(self, *input, **kwargs)\u001b[0m\n\u001b[1;32m   1100\u001b[0m         if not (self._backward_hooks or self._forward_hooks or self._forward_pre_hooks or _global_backward_hooks\n\u001b[1;32m   1101\u001b[0m                 or _global_forward_hooks or _global_forward_pre_hooks):\n\u001b[0;32m-> 1102\u001b[0;31m             \u001b[0;32mreturn\u001b[0m \u001b[0mforward_call\u001b[0m\u001b[0;34m(\u001b[0m\u001b[0;34m*\u001b[0m\u001b[0minput\u001b[0m\u001b[0;34m,\u001b[0m \u001b[0;34m**\u001b[0m\u001b[0mkwargs\u001b[0m\u001b[0;34m)\u001b[0m\u001b[0;34m\u001b[0m\u001b[0;34m\u001b[0m\u001b[0m\n\u001b[0m\u001b[1;32m   1103\u001b[0m         \u001b[0;31m# Do not call functions when jit is used\u001b[0m\u001b[0;34m\u001b[0m\u001b[0;34m\u001b[0m\u001b[0;34m\u001b[0m\u001b[0m\n\u001b[1;32m   1104\u001b[0m         \u001b[0mfull_backward_hooks\u001b[0m\u001b[0;34m,\u001b[0m \u001b[0mnon_full_backward_hooks\u001b[0m \u001b[0;34m=\u001b[0m \u001b[0;34m[\u001b[0m\u001b[0;34m]\u001b[0m\u001b[0;34m,\u001b[0m \u001b[0;34m[\u001b[0m\u001b[0;34m]\u001b[0m\u001b[0;34m\u001b[0m\u001b[0;34m\u001b[0m\u001b[0m\n",
      "\u001b[0;32m/tmp/eugen_pyg/tmpf29oox3y.py\u001b[0m in \u001b[0;36mforward\u001b[0;34m(self, x, edge_index, batch)\u001b[0m\n\u001b[1;32m     15\u001b[0m     \u001b[0;32mdef\u001b[0m \u001b[0mforward\u001b[0m\u001b[0;34m(\u001b[0m\u001b[0mself\u001b[0m\u001b[0;34m,\u001b[0m \u001b[0mx\u001b[0m\u001b[0;34m,\u001b[0m \u001b[0medge_index\u001b[0m\u001b[0;34m,\u001b[0m \u001b[0mbatch\u001b[0m\u001b[0;34m)\u001b[0m\u001b[0;34m:\u001b[0m\u001b[0;34m\u001b[0m\u001b[0;34m\u001b[0m\u001b[0m\n\u001b[1;32m     16\u001b[0m         \u001b[0;34m\"\"\"\"\"\"\u001b[0m\u001b[0;34m\u001b[0m\u001b[0;34m\u001b[0m\u001b[0m\n\u001b[0;32m---> 17\u001b[0;31m         \u001b[0mx\u001b[0m \u001b[0;34m=\u001b[0m \u001b[0mself\u001b[0m\u001b[0;34m.\u001b[0m\u001b[0mmodule_0\u001b[0m\u001b[0;34m(\u001b[0m\u001b[0mx\u001b[0m\u001b[0;34m,\u001b[0m \u001b[0medge_index\u001b[0m\u001b[0;34m)\u001b[0m\u001b[0;34m\u001b[0m\u001b[0;34m\u001b[0m\u001b[0m\n\u001b[0m\u001b[1;32m     18\u001b[0m         \u001b[0mx\u001b[0m \u001b[0;34m=\u001b[0m \u001b[0mself\u001b[0m\u001b[0;34m.\u001b[0m\u001b[0mmodule_1\u001b[0m\u001b[0;34m(\u001b[0m\u001b[0mx\u001b[0m\u001b[0;34m)\u001b[0m\u001b[0;34m\u001b[0m\u001b[0;34m\u001b[0m\u001b[0m\n\u001b[1;32m     19\u001b[0m         \u001b[0mx\u001b[0m \u001b[0;34m=\u001b[0m \u001b[0mself\u001b[0m\u001b[0;34m.\u001b[0m\u001b[0mmodule_2\u001b[0m\u001b[0;34m(\u001b[0m\u001b[0mx\u001b[0m\u001b[0;34m,\u001b[0m \u001b[0medge_index\u001b[0m\u001b[0;34m)\u001b[0m\u001b[0;34m\u001b[0m\u001b[0;34m\u001b[0m\u001b[0m\n",
      "\u001b[0;32m~/miniconda3/envs/gnn/lib/python3.8/site-packages/torch/nn/modules/module.py\u001b[0m in \u001b[0;36m_call_impl\u001b[0;34m(self, *input, **kwargs)\u001b[0m\n\u001b[1;32m   1100\u001b[0m         if not (self._backward_hooks or self._forward_hooks or self._forward_pre_hooks or _global_backward_hooks\n\u001b[1;32m   1101\u001b[0m                 or _global_forward_hooks or _global_forward_pre_hooks):\n\u001b[0;32m-> 1102\u001b[0;31m             \u001b[0;32mreturn\u001b[0m \u001b[0mforward_call\u001b[0m\u001b[0;34m(\u001b[0m\u001b[0;34m*\u001b[0m\u001b[0minput\u001b[0m\u001b[0;34m,\u001b[0m \u001b[0;34m**\u001b[0m\u001b[0mkwargs\u001b[0m\u001b[0;34m)\u001b[0m\u001b[0;34m\u001b[0m\u001b[0;34m\u001b[0m\u001b[0m\n\u001b[0m\u001b[1;32m   1103\u001b[0m         \u001b[0;31m# Do not call functions when jit is used\u001b[0m\u001b[0;34m\u001b[0m\u001b[0;34m\u001b[0m\u001b[0;34m\u001b[0m\u001b[0m\n\u001b[1;32m   1104\u001b[0m         \u001b[0mfull_backward_hooks\u001b[0m\u001b[0;34m,\u001b[0m \u001b[0mnon_full_backward_hooks\u001b[0m \u001b[0;34m=\u001b[0m \u001b[0;34m[\u001b[0m\u001b[0;34m]\u001b[0m\u001b[0;34m,\u001b[0m \u001b[0;34m[\u001b[0m\u001b[0;34m]\u001b[0m\u001b[0;34m\u001b[0m\u001b[0;34m\u001b[0m\u001b[0m\n",
      "\u001b[0;32m~/miniconda3/envs/gnn/lib/python3.8/site-packages/torch_geometric/nn/conv/gcn_conv.py\u001b[0m in \u001b[0;36mforward\u001b[0;34m(self, x, edge_index, edge_weight)\u001b[0m\n\u001b[1;32m    182\u001b[0m \u001b[0;34m\u001b[0m\u001b[0m\n\u001b[1;32m    183\u001b[0m         \u001b[0;31m# propagate_type: (x: Tensor, edge_weight: OptTensor)\u001b[0m\u001b[0;34m\u001b[0m\u001b[0;34m\u001b[0m\u001b[0;34m\u001b[0m\u001b[0m\n\u001b[0;32m--> 184\u001b[0;31m         out = self.propagate(edge_index, x=x, edge_weight=edge_weight,\n\u001b[0m\u001b[1;32m    185\u001b[0m                              size=None)\n\u001b[1;32m    186\u001b[0m \u001b[0;34m\u001b[0m\u001b[0m\n",
      "\u001b[0;32m~/miniconda3/envs/gnn/lib/python3.8/site-packages/torch_geometric/nn/conv/message_passing.py\u001b[0m in \u001b[0;36mpropagate\u001b[0;34m(self, edge_index, size, **kwargs)\u001b[0m\n\u001b[1;32m    333\u001b[0m                         \u001b[0maggr_kwargs\u001b[0m \u001b[0;34m=\u001b[0m \u001b[0mres\u001b[0m\u001b[0;34m[\u001b[0m\u001b[0;36m0\u001b[0m\u001b[0;34m]\u001b[0m \u001b[0;32mif\u001b[0m \u001b[0misinstance\u001b[0m\u001b[0;34m(\u001b[0m\u001b[0mres\u001b[0m\u001b[0;34m,\u001b[0m \u001b[0mtuple\u001b[0m\u001b[0;34m)\u001b[0m \u001b[0;32melse\u001b[0m \u001b[0mres\u001b[0m\u001b[0;34m\u001b[0m\u001b[0;34m\u001b[0m\u001b[0m\n\u001b[1;32m    334\u001b[0m                 \u001b[0mout\u001b[0m \u001b[0;34m=\u001b[0m \u001b[0mself\u001b[0m\u001b[0;34m.\u001b[0m\u001b[0maggregate\u001b[0m\u001b[0;34m(\u001b[0m\u001b[0mout\u001b[0m\u001b[0;34m,\u001b[0m \u001b[0;34m**\u001b[0m\u001b[0maggr_kwargs\u001b[0m\u001b[0;34m)\u001b[0m\u001b[0;34m\u001b[0m\u001b[0;34m\u001b[0m\u001b[0m\n\u001b[0;32m--> 335\u001b[0;31m                 \u001b[0;32mfor\u001b[0m \u001b[0mhook\u001b[0m \u001b[0;32min\u001b[0m \u001b[0mself\u001b[0m\u001b[0;34m.\u001b[0m\u001b[0m_aggregate_forward_hooks\u001b[0m\u001b[0;34m.\u001b[0m\u001b[0mvalues\u001b[0m\u001b[0;34m(\u001b[0m\u001b[0;34m)\u001b[0m\u001b[0;34m:\u001b[0m\u001b[0;34m\u001b[0m\u001b[0;34m\u001b[0m\u001b[0m\n\u001b[0m\u001b[1;32m    336\u001b[0m                     \u001b[0mres\u001b[0m \u001b[0;34m=\u001b[0m \u001b[0mhook\u001b[0m\u001b[0;34m(\u001b[0m\u001b[0mself\u001b[0m\u001b[0;34m,\u001b[0m \u001b[0;34m(\u001b[0m\u001b[0maggr_kwargs\u001b[0m\u001b[0;34m,\u001b[0m \u001b[0;34m)\u001b[0m\u001b[0;34m,\u001b[0m \u001b[0mout\u001b[0m\u001b[0;34m)\u001b[0m\u001b[0;34m\u001b[0m\u001b[0;34m\u001b[0m\u001b[0m\n\u001b[1;32m    337\u001b[0m                     \u001b[0;32mif\u001b[0m \u001b[0mres\u001b[0m \u001b[0;32mis\u001b[0m \u001b[0;32mnot\u001b[0m \u001b[0;32mNone\u001b[0m\u001b[0;34m:\u001b[0m\u001b[0;34m\u001b[0m\u001b[0;34m\u001b[0m\u001b[0m\n",
      "\u001b[0;31mKeyboardInterrupt\u001b[0m: "
     ]
    }
   ],
   "source": [
    "model = graph_learning.create_GNN_model(1, 10, 3)\n",
    "graph_learning.train_graph_classification(model, loader, loader, num_epochs = NUM_EPOCHS)"
   ]
  },
  {
   "cell_type": "code",
   "execution_count": null,
   "metadata": {},
   "outputs": [],
   "source": [
    "for data in loader:\n",
    "    d = data\n",
    "    break"
   ]
  },
  {
   "cell_type": "code",
   "execution_count": null,
   "metadata": {},
   "outputs": [
    {
     "data": {
      "text/plain": [
       "48"
      ]
     },
     "execution_count": 13,
     "metadata": {},
     "output_type": "execute_result"
    }
   ],
   "source": [
    "d.y.shape[0]"
   ]
  },
  {
   "cell_type": "code",
   "execution_count": null,
   "metadata": {},
   "outputs": [],
   "source": []
  }
 ],
 "metadata": {
  "interpreter": {
   "hash": "7187b68757462448673d9b0c12050c39591ce7281567da7b84259581a46b0c3d"
  },
  "kernelspec": {
   "display_name": "Python 3.8.12 64-bit ('gnn': conda)",
   "language": "python",
   "name": "python3"
  },
  "language_info": {
   "codemirror_mode": {
    "name": "ipython",
    "version": 3
   },
   "file_extension": ".py",
   "mimetype": "text/x-python",
   "name": "python",
   "nbconvert_exporter": "python",
   "pygments_lexer": "ipython3",
   "version": "3.8.12"
  },
  "orig_nbformat": 4
 },
 "nbformat": 4,
 "nbformat_minor": 2
}
