{
 "cells": [
  {
   "cell_type": "code",
   "execution_count": 1,
   "metadata": {},
   "outputs": [],
   "source": [
    "import networkx as nx\n",
    "import numpy as np\n",
    "import pandas as pd\n",
    "import torch\n",
    "import torch_geometric.utils as geo_utils\n",
    "\n",
    "from utils import *"
   ]
  },
  {
   "cell_type": "code",
   "execution_count": 2,
   "metadata": {},
   "outputs": [],
   "source": [
    "df_syn = load_synergyage()\n",
    "df_biogrid = load_biogrid()"
   ]
  },
  {
   "cell_type": "code",
   "execution_count": 3,
   "metadata": {},
   "outputs": [],
   "source": [
    "def encode_intervention_class(intervention_class: str) -> torch.Tensor:        \n",
    "    if intervention_class == \"NS\":\n",
    "        code = [0, 1, 0]\n",
    "    elif intervention_class == \"PRO\":\n",
    "        code = [0, 0, 1]\n",
    "    elif intervention_class == \"ANTI\":\n",
    "        code = [1, 0 ,0]\n",
    "    else:\n",
    "        raise ValueError(f\"Intervention class {intervention_class} not recognized.\")\n",
    "    return torch.as_tensor(code).type(torch.LongTensor)\n",
    "\n",
    "\n",
    "# 0) Clean df_synergy (current setup):\n",
    "#    a) Remove genes not in biogrid\n",
    "biogrid_genes = get_biogrid_gene_names(df_biogrid)\n",
    "# synergyage_genes = get_synergyage_genes(df_syn)\n",
    "selected = []\n",
    "for i, row in df_syn.iterrows():\n",
    "    genes = row[\"genes_str\"].split(\";\")\n",
    "    row_has_gene_not_in_biogrid = False\n",
    "    for gene in genes:\n",
    "        if gene not in biogrid_genes:\n",
    "            row_has_gene_not_in_biogrid = True\n",
    "            break\n",
    "    if row_has_gene_not_in_biogrid:\n",
    "        continue\n",
    "    else:\n",
    "        selected.append(i)\n",
    "df_syn = df_syn.iloc[selected, :].copy()\n",
    "#    b) remove duplicated interventions (later)\n",
    "\n",
    "# 1) Shuffle df_synergy\n",
    "df_syn = df_syn.iloc[np.random.permutation(len(df_syn)).tolist()].copy()\n"
   ]
  },
  {
   "cell_type": "code",
   "execution_count": 17,
   "metadata": {},
   "outputs": [],
   "source": [
    "# 2) Create array of graphs and target tensors\n",
    "data_list = []\n",
    "for i, row in df_syn.iterrows():\n",
    "    intervention_genes = row['genes_str'].split(\";\")\n",
    "    class_encoded: torch.Tensor = encode_intervention_class( row[\"LIFESPAN_CLASS\"] )\n",
    "\n",
    "    # For removing the nodes that are KO\n",
    "    # biogrid_mask = ( (~df_biogrid[GENE_NAME_A_COL].isin(intervention_genes)) & (~df_biogrid[GENE_NAME_B_COL].isin(intervention_genes)))\n",
    "    # df_biogrid_trimmed = df_biogrid.loc[biogrid_mask].copy()\n",
    "    \n",
    "    G = nx.from_pandas_edgelist(df_biogrid[[GENE_NAME_A_COL, GENE_NAME_B_COL]])\n",
    "    data = geo_utils.from_networkx(G)\n",
    "    data.x = None\n",
    "    raise NotImplementedError\n",
    "    data.y = class_encoded\n",
    "    data_list.append(data)\n",
    "\n",
    "# loader = DataLoader(data_list, batch_size = 4)"
   ]
  }
 ],
 "metadata": {
  "interpreter": {
   "hash": "7187b68757462448673d9b0c12050c39591ce7281567da7b84259581a46b0c3d"
  },
  "kernelspec": {
   "display_name": "Python 3.8.12 64-bit ('gnn': conda)",
   "language": "python",
   "name": "python3"
  },
  "language_info": {
   "codemirror_mode": {
    "name": "ipython",
    "version": 3
   },
   "file_extension": ".py",
   "mimetype": "text/x-python",
   "name": "python",
   "nbconvert_exporter": "python",
   "pygments_lexer": "ipython3",
   "version": "3.8.12"
  },
  "orig_nbformat": 4
 },
 "nbformat": 4,
 "nbformat_minor": 2
}
