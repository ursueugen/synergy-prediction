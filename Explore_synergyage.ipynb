{
 "cells": [
  {
   "cell_type": "code",
   "execution_count": 34,
   "id": "2b87c0f6-bc12-49b1-a89b-b4f4742275f7",
   "metadata": {},
   "outputs": [],
   "source": [
    "from functools import reduce\n",
    "import itertools\n",
    "\n",
    "import numpy as np\n",
    "import pandas as pd\n",
    "import matplotlib.pyplot as plt\n",
    "import networkx as nx\n",
    "\n",
    "import utils"
   ]
  },
  {
   "cell_type": "code",
   "execution_count": 14,
   "id": "1e615b09-93a1-4dfb-9ad9-819d1ff723a2",
   "metadata": {},
   "outputs": [
    {
     "data": {
      "text/html": [
       "<div>\n",
       "<style scoped>\n",
       "    .dataframe tbody tr th:only-of-type {\n",
       "        vertical-align: middle;\n",
       "    }\n",
       "\n",
       "    .dataframe tbody tr th {\n",
       "        vertical-align: top;\n",
       "    }\n",
       "\n",
       "    .dataframe thead th {\n",
       "        text-align: right;\n",
       "    }\n",
       "</style>\n",
       "<table border=\"1\" class=\"dataframe\">\n",
       "  <thead>\n",
       "    <tr style=\"text-align: right;\">\n",
       "      <th></th>\n",
       "      <th>Unnamed: 0</th>\n",
       "      <th>Pubmed ID</th>\n",
       "      <th>Temperature</th>\n",
       "      <th>Diet</th>\n",
       "      <th>Details</th>\n",
       "      <th>Wild type lifespan (days)</th>\n",
       "      <th>Gene 1</th>\n",
       "      <th>Intervention on gene 1</th>\n",
       "      <th>Gene 1 single mutant lifespan (days)</th>\n",
       "      <th>Gene(s) 2(,3)</th>\n",
       "      <th>...</th>\n",
       "      <th>Double (triple) mutant (genes 1,2,(3)) lifespan (days)</th>\n",
       "      <th>Phenotype description</th>\n",
       "      <th>Organism</th>\n",
       "      <th>genes</th>\n",
       "      <th>genes_str</th>\n",
       "      <th>num_genes</th>\n",
       "      <th>FC</th>\n",
       "      <th>LOGFC</th>\n",
       "      <th>PERCENT_CHANGE</th>\n",
       "      <th>LIFESPAN_CLASS</th>\n",
       "    </tr>\n",
       "  </thead>\n",
       "  <tbody>\n",
       "    <tr>\n",
       "      <th>2086</th>\n",
       "      <td>2086</td>\n",
       "      <td>19416129</td>\n",
       "      <td>20</td>\n",
       "      <td>NaN</td>\n",
       "      <td>Survival analyses began from hatching and were...</td>\n",
       "      <td>16.3</td>\n",
       "      <td>atm-1</td>\n",
       "      <td>gk186</td>\n",
       "      <td>19.5</td>\n",
       "      <td>frh-1</td>\n",
       "      <td>...</td>\n",
       "      <td>26.2</td>\n",
       "      <td>NaN</td>\n",
       "      <td>6239</td>\n",
       "      <td>('atm-1', 'frh-1')</td>\n",
       "      <td>atm-1;frh-1</td>\n",
       "      <td>2</td>\n",
       "      <td>1.607362</td>\n",
       "      <td>0.684695</td>\n",
       "      <td>0.607362</td>\n",
       "      <td>PRO</td>\n",
       "    </tr>\n",
       "  </tbody>\n",
       "</table>\n",
       "<p>1 rows × 22 columns</p>\n",
       "</div>"
      ],
      "text/plain": [
       "      Unnamed: 0  Pubmed ID Temperature Diet  \\\n",
       "2086        2086   19416129          20  NaN   \n",
       "\n",
       "                                                Details  \\\n",
       "2086  Survival analyses began from hatching and were...   \n",
       "\n",
       "      Wild type lifespan (days) Gene 1 Intervention on gene 1  \\\n",
       "2086                       16.3  atm-1                  gk186   \n",
       "\n",
       "      Gene 1 single mutant lifespan (days) Gene(s) 2(,3)  ...  \\\n",
       "2086                                  19.5         frh-1  ...   \n",
       "\n",
       "     Double (triple) mutant (genes 1,2,(3)) lifespan (days)  \\\n",
       "2086                                               26.2       \n",
       "\n",
       "      Phenotype description  Organism               genes    genes_str  \\\n",
       "2086                    NaN      6239  ('atm-1', 'frh-1')  atm-1;frh-1   \n",
       "\n",
       "     num_genes        FC     LOGFC  PERCENT_CHANGE  LIFESPAN_CLASS  \n",
       "2086         2  1.607362  0.684695        0.607362             PRO  \n",
       "\n",
       "[1 rows x 22 columns]"
      ]
     },
     "execution_count": 14,
     "metadata": {},
     "output_type": "execute_result"
    }
   ],
   "source": [
    "C_ELEGANS_TAXID = 6239\n",
    "\n",
    "# df = pd.read_csv(\"./data/synergyage_database.csv\").iloc[:, :-1].copy()\n",
    "df = utils.get_synergyage_subset_with_biogrid_gene_names()\n",
    "df.head(1)"
   ]
  },
  {
   "cell_type": "code",
   "execution_count": 15,
   "id": "cb27aff7-06a9-4b59-93f8-f5a81c205d26",
   "metadata": {},
   "outputs": [
    {
     "data": {
      "text/plain": [
       "(2098, 22)"
      ]
     },
     "execution_count": 15,
     "metadata": {},
     "output_type": "execute_result"
    }
   ],
   "source": [
    "df_celegans = df.loc[df['Organism'] == C_ELEGANS_TAXID]\n",
    "df_celegans.shape"
   ]
  },
  {
   "cell_type": "code",
   "execution_count": 16,
   "id": "99349adf-ccc2-4c81-a308-94d8e3b2e226",
   "metadata": {},
   "outputs": [
    {
     "name": "stderr",
     "output_type": "stream",
     "text": [
      "/home/eugen/miniconda3/envs/gnn/lib/python3.8/site-packages/numpy/core/fromnumeric.py:3162: VisibleDeprecationWarning: Creating an ndarray from ragged nested sequences (which is a list-or-tuple of lists-or-tuples-or ndarrays with different lengths or shapes) is deprecated. If you meant to do this, you must specify 'dtype=object' when creating the ndarray.\n",
      "  return asarray(a).ndim\n"
     ]
    }
   ],
   "source": [
    "def clean_spaces_list_str(alist) -> list:\n",
    "    \"\"\"Remove white space, check if `,` and further split.\"\"\"\n",
    "    alist_augmented = []\n",
    "    for elem in alist:\n",
    "        if \",\" in elem:\n",
    "            alist_augmented += elem.split(\",\")\n",
    "        else:\n",
    "            alist_augmented.append(elem)\n",
    "        \n",
    "    alist_cleaned = []\n",
    "    for elem in alist_augmented:\n",
    "        if elem[0] == \" \":\n",
    "            alist_cleaned.append(elem[1:])\n",
    "        elif elem[-1] == \" \":\n",
    "            alist_cleaned.append(elem[:-1])\n",
    "        else:\n",
    "            alist_cleaned.append(elem)\n",
    "    return alist_cleaned\n",
    "\n",
    "\n",
    "INTERVENTION_GENES_1_COL = \"Gene 1\"\n",
    "INTERVENTION_GENES_2_COL = \"Gene(s) 2(,3)\"\n",
    "\n",
    "intervention_genes = []\n",
    "intervention_genes_str = []\n",
    "for i, row in df_celegans.iterrows():\n",
    "    genes_1 = row[INTERVENTION_GENES_1_COL].split(\";\")\n",
    "    genes_1 = clean_spaces_list_str(genes_1)\n",
    "            \n",
    "    genes_2 = row[INTERVENTION_GENES_2_COL].split(\";\")\n",
    "    genes_2 = clean_spaces_list_str(genes_2)\n",
    "    \n",
    "    sorted_l = sorted([*genes_1, *genes_2])\n",
    "    intervention_genes.append(tuple(sorted_l))\n",
    "    intervention_genes_str.append(\";\".join(sorted_l))\n",
    "\n",
    "df_celegans.loc[:, \"genes\"] = intervention_genes\n",
    "df_celegans.loc[:, \"genes_str\"] = intervention_genes_str\n",
    "df_celegans.loc[:, \"num_genes\"] = list(map(len, intervention_genes))"
   ]
  },
  {
   "cell_type": "code",
   "execution_count": 17,
   "id": "123caf4b-42b4-4037-bbdf-a07115ede7e1",
   "metadata": {},
   "outputs": [
    {
     "data": {
      "text/plain": [
       "<AxesSubplot:title={'center':'Number of genes intervened upon.'}, ylabel='Frequency'>"
      ]
     },
     "execution_count": 17,
     "metadata": {},
     "output_type": "execute_result"
    },
    {
     "data": {
      "image/png": "[encoded data removed]",
      "text/plain": [
       "<Figure size 432x288 with 1 Axes>"
      ]
     },
     "metadata": {
      "needs_background": "light"
     },
     "output_type": "display_data"
    }
   ],
   "source": [
    "df_celegans[\"num_genes\"].plot.hist(title=\"Number of genes intervened upon.\")"
   ]
  },
  {
   "cell_type": "code",
   "execution_count": 18,
   "id": "71e69fed-b39a-44ee-98b3-dab72b647494",
   "metadata": {},
   "outputs": [],
   "source": [
    "genes = reduce(lambda s1, s2: s1.union(s2), intervention_genes, set([]))"
   ]
  },
  {
   "cell_type": "code",
   "execution_count": 19,
   "id": "d72e99d4-795b-4f24-85a4-508a3783329e",
   "metadata": {},
   "outputs": [
    {
     "data": {
      "text/plain": [
       "<AxesSubplot:title={'center':'log2( # replicated combinations )'}, ylabel='Frequency'>"
      ]
     },
     "execution_count": 19,
     "metadata": {},
     "output_type": "execute_result"
    },
    {
     "data": {
      "image/png": "[encoded data removed]",
      "text/plain": [
       "<Figure size 432x288 with 1 Axes>"
      ]
     },
     "metadata": {
      "needs_background": "light"
     },
     "output_type": "display_data"
    }
   ],
   "source": [
    "# need remove duplicated interventions\n",
    "df_celegans[\"genes\"].value_counts().transform(np.log2).plot.hist(title=\"log2( # replicated combinations )\", bins=20)\n",
    "# plt.plot(df_celegans[\"genes\"].value_counts().values)"
   ]
  },
  {
   "cell_type": "code",
   "execution_count": 20,
   "id": "022558e1-5b83-4f3b-a66e-48290e407a9a",
   "metadata": {},
   "outputs": [],
   "source": [
    "BASELINE_LS_COL = \"Wild type lifespan (days)\"\n",
    "EFFECT_LS_COL = \"Double (triple) mutant (genes 1,2,(3)) lifespan (days)\"\n",
    "\n",
    "df_celegans.loc[df_celegans[BASELINE_LS_COL].isna(), BASELINE_LS_COL] = df_celegans[BASELINE_LS_COL].dropna().mean()\n",
    "assert df_celegans[BASELINE_LS_COL].isna().sum() == 0 and df_celegans[EFFECT_LS_COL].isna().sum() == 0\n",
    "df_celegans.loc[:, \"FC\"] = df_celegans[EFFECT_LS_COL] / df_celegans[BASELINE_LS_COL]\n",
    "df_celegans.loc[:, \"LOGFC\"] = np.log2(df_celegans[\"FC\"])\n",
    "df_celegans.loc[:, \"PERCENT_CHANGE\"] = (df_celegans[EFFECT_LS_COL] - df_celegans[BASELINE_LS_COL]) / df_celegans[BASELINE_LS_COL]"
   ]
  },
  {
   "cell_type": "code",
   "execution_count": 21,
   "id": "c5cccb42-f3f8-42fc-8648-0a3a00164b88",
   "metadata": {},
   "outputs": [
    {
     "data": {
      "text/plain": [
       "<AxesSubplot:title={'center':'log2(FC) distribution across all combinatorial interventions'}, ylabel='Frequency'>"
      ]
     },
     "execution_count": 21,
     "metadata": {},
     "output_type": "execute_result"
    },
    {
     "data": {
      "image/png": "[encoded data removed]",
      "text/plain": [
       "<Figure size 432x288 with 1 Axes>"
      ]
     },
     "metadata": {
      "needs_background": "light"
     },
     "output_type": "display_data"
    }
   ],
   "source": [
    "df_celegans[\"LOGFC\"].plot.hist(title=\"log2(FC) distribution across all combinatorial interventions\", bins=30)"
   ]
  },
  {
   "cell_type": "code",
   "execution_count": 22,
   "id": "2e503093-6c76-498e-b29c-f5e178d2213e",
   "metadata": {},
   "outputs": [
    {
     "data": {
      "text/plain": [
       "853"
      ]
     },
     "execution_count": 22,
     "metadata": {},
     "output_type": "execute_result"
    }
   ],
   "source": [
    "(abs(df_celegans[\"LOGFC\"]) > 0.5).sum()"
   ]
  },
  {
   "cell_type": "code",
   "execution_count": 23,
   "id": "c77a7f3d-f374-4cfd-9d96-ba9f175e3fd9",
   "metadata": {},
   "outputs": [],
   "source": [
    "LOGFC_CUTOFF = 0.5\n",
    "\n",
    "conditions = [\n",
    "    ( abs(df_celegans[\"LOGFC\"]) <= 0.2 ),\n",
    "    ( df_celegans[\"LOGFC\"] > 0.2 ),\n",
    "    ( df_celegans[\"LOGFC\"] < -0.2 ),\n",
    "]\n",
    "values = utils.INTERVENTION_CLASSES\n",
    "\n",
    "df_celegans[\"LIFESPAN_CLASS\"] = np.select(conditions, values)\n",
    "\n",
    "# df_celegans.to_csv(\"./data/synergyage_database_augmented.tsv\", sep=\"\\t\")"
   ]
  },
  {
   "cell_type": "code",
   "execution_count": 24,
   "id": "d044f0a0-f3d0-47cd-bdc1-c22a2094b76b",
   "metadata": {},
   "outputs": [
    {
     "data": {
      "text/plain": [
       "PRO     1052\n",
       "NS       550\n",
       "ANTI     496\n",
       "Name: LIFESPAN_CLASS, dtype: int64"
      ]
     },
     "execution_count": 24,
     "metadata": {},
     "output_type": "execute_result"
    }
   ],
   "source": [
    "df_celegans.LIFESPAN_CLASS.value_counts()"
   ]
  },
  {
   "cell_type": "code",
   "execution_count": 31,
   "id": "2337a185-af3a-47ae-8422-48f36893bb8d",
   "metadata": {},
   "outputs": [
    {
     "name": "stdout",
     "output_type": "stream",
     "text": [
      "There are 355 unique genes in synergy age.\n"
     ]
    },
    {
     "data": {
      "text/plain": [
       "2098"
      ]
     },
     "execution_count": 31,
     "metadata": {},
     "output_type": "execute_result"
    }
   ],
   "source": [
    "genes = utils.get_synergyage_genes(df_celegans)\n",
    "print(f\"There are {len(genes)} unique genes in synergy age.\")"
   ]
  },
  {
   "cell_type": "code",
   "execution_count": 43,
   "id": "eb705d6d",
   "metadata": {},
   "outputs": [],
   "source": [
    "intervention_genes = df_celegans.genes.to_list()\n",
    "\n",
    "intervention_graph = nx.Graph()\n",
    "for genes in intervention_genes:\n",
    "    \n",
    "    # Add gene node\n",
    "    for gene in genes:\n",
    "        if gene not in intervention_graph.nodes:\n",
    "            intervention_graph.add_node(gene)\n",
    "\n",
    "    # Add edges\n",
    "    for gene_1, gene_2 in itertools.combinations(genes, 2):\n",
    "        if (gene_1, gene_2) not in intervention_graph.edges:\n",
    "            intervention_graph.add_edges_from([(gene_1, gene_2)])\n",
    "        if (gene_2, gene_1) not in intervention_graph.edges:\n",
    "            intervention_graph.add_edges_from([(gene_2, gene_1)])"
   ]
  },
  {
   "cell_type": "code",
   "execution_count": 44,
   "id": "4f634518",
   "metadata": {},
   "outputs": [
    {
     "data": {
      "text/plain": [
       "912"
      ]
     },
     "execution_count": 44,
     "metadata": {},
     "output_type": "execute_result"
    }
   ],
   "source": [
    "len(intervention_graph.edges)"
   ]
  },
  {
   "cell_type": "code",
   "execution_count": 52,
   "id": "694dc211",
   "metadata": {},
   "outputs": [
    {
     "data": {
      "text/plain": [
       "1"
      ]
     },
     "execution_count": 52,
     "metadata": {},
     "output_type": "execute_result"
    }
   ],
   "source": [
    "cc = nx.k_edge_components(intervention_graph, k=1)  #2\n",
    "len(list(cc))"
   ]
  },
  {
   "cell_type": "code",
   "execution_count": null,
   "id": "59de3bf9",
   "metadata": {},
   "outputs": [],
   "source": []
  }
 ],
 "metadata": {
  "kernelspec": {
   "display_name": "Python 3 (ipykernel)",
   "language": "python",
   "name": "python3"
  },
  "language_info": {
   "codemirror_mode": {
    "name": "ipython",
    "version": 3
   },
   "file_extension": ".py",
   "mimetype": "text/x-python",
   "name": "python",
   "nbconvert_exporter": "python",
   "pygments_lexer": "ipython3",
   "version": "3.8.12"
  }
 },
 "nbformat": 4,
 "nbformat_minor": 5
}
