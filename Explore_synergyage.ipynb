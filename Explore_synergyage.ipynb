{
 "cells": [
  {
   "cell_type": "code",
   "execution_count": 178,
   "id": "2b87c0f6-bc12-49b1-a89b-b4f4742275f7",
   "metadata": {},
   "outputs": [],
   "source": [
    "from functools import reduce\n",
    "\n",
    "import numpy as np\n",
    "import pandas as pd\n",
    "import matplotlib.pyplot as plt\n",
    "\n",
    "from utils import *"
   ]
  },
  {
   "cell_type": "code",
   "execution_count": 179,
   "id": "1e615b09-93a1-4dfb-9ad9-819d1ff723a2",
   "metadata": {},
   "outputs": [
    {
     "data": {
      "text/html": [
       "<div>\n",
       "<style scoped>\n",
       "    .dataframe tbody tr th:only-of-type {\n",
       "        vertical-align: middle;\n",
       "    }\n",
       "\n",
       "    .dataframe tbody tr th {\n",
       "        vertical-align: top;\n",
       "    }\n",
       "\n",
       "    .dataframe thead th {\n",
       "        text-align: right;\n",
       "    }\n",
       "</style>\n",
       "<table border=\"1\" class=\"dataframe\">\n",
       "  <thead>\n",
       "    <tr style=\"text-align: right;\">\n",
       "      <th></th>\n",
       "      <th>Pubmed ID</th>\n",
       "      <th>Temperature</th>\n",
       "      <th>Diet</th>\n",
       "      <th>Details</th>\n",
       "      <th>Wild type lifespan (days)</th>\n",
       "      <th>Gene 1</th>\n",
       "      <th>Intervention on gene 1</th>\n",
       "      <th>Gene 1 single mutant lifespan (days)</th>\n",
       "      <th>Gene(s) 2(,3)</th>\n",
       "      <th>Intervention(s) on gene 2(,3)</th>\n",
       "      <th>Gene(s) 2(,3) mutant lifespan (days)</th>\n",
       "      <th>Double (triple) mutant (genes 1,2,(3)) lifespan (days)</th>\n",
       "      <th>Phenotype description</th>\n",
       "      <th>Organism</th>\n",
       "    </tr>\n",
       "  </thead>\n",
       "  <tbody>\n",
       "    <tr>\n",
       "      <th>0</th>\n",
       "      <td>19461873</td>\n",
       "      <td>25</td>\n",
       "      <td>OP50</td>\n",
       "      <td>�Late L4 larvae growing at 20�C were transferr...</td>\n",
       "      <td>13.6</td>\n",
       "      <td>hif-1</td>\n",
       "      <td>RNAi</td>\n",
       "      <td>16.1</td>\n",
       "      <td>daf-16</td>\n",
       "      <td>mgDf47</td>\n",
       "      <td>10.5</td>\n",
       "      <td>12.4</td>\n",
       "      <td>Lifespan extension by�hif-1�did not require DA...</td>\n",
       "      <td>6239</td>\n",
       "    </tr>\n",
       "    <tr>\n",
       "      <th>1</th>\n",
       "      <td>19461873</td>\n",
       "      <td>25</td>\n",
       "      <td>OP50</td>\n",
       "      <td>�Late L4 larvae growing at 20�C were transferr...</td>\n",
       "      <td>13.6</td>\n",
       "      <td>hif-1</td>\n",
       "      <td>RNAi</td>\n",
       "      <td>16.1</td>\n",
       "      <td>daf-2</td>\n",
       "      <td>e1370</td>\n",
       "      <td>29.0</td>\n",
       "      <td>35.0</td>\n",
       "      <td>hif-1�RNAi further extended the lifespan of a�...</td>\n",
       "      <td>6239</td>\n",
       "    </tr>\n",
       "    <tr>\n",
       "      <th>2</th>\n",
       "      <td>19461873</td>\n",
       "      <td>25</td>\n",
       "      <td>OP50</td>\n",
       "      <td>�Late L4 larvae growing at 20�C were transferr...</td>\n",
       "      <td>13.6</td>\n",
       "      <td>hif-1</td>\n",
       "      <td>RNAi</td>\n",
       "      <td>16.1</td>\n",
       "      <td>unc-24;daf-15</td>\n",
       "      <td>e138;m634</td>\n",
       "      <td>16.6</td>\n",
       "      <td>16.6</td>\n",
       "      <td>Inhibition of�hif-1�by RNAi did not further ex...</td>\n",
       "      <td>6239</td>\n",
       "    </tr>\n",
       "  </tbody>\n",
       "</table>\n",
       "</div>"
      ],
      "text/plain": [
       "   Pubmed ID Temperature  Diet  \\\n",
       "0   19461873          25  OP50   \n",
       "1   19461873          25  OP50   \n",
       "2   19461873          25  OP50   \n",
       "\n",
       "                                             Details  \\\n",
       "0  �Late L4 larvae growing at 20�C were transferr...   \n",
       "1  �Late L4 larvae growing at 20�C were transferr...   \n",
       "2  �Late L4 larvae growing at 20�C were transferr...   \n",
       "\n",
       "   Wild type lifespan (days) Gene 1 Intervention on gene 1  \\\n",
       "0                       13.6  hif-1                   RNAi   \n",
       "1                       13.6  hif-1                   RNAi   \n",
       "2                       13.6  hif-1                   RNAi   \n",
       "\n",
       "   Gene 1 single mutant lifespan (days)  Gene(s) 2(,3)  \\\n",
       "0                                  16.1         daf-16   \n",
       "1                                  16.1          daf-2   \n",
       "2                                  16.1  unc-24;daf-15   \n",
       "\n",
       "  Intervention(s) on gene 2(,3)  Gene(s) 2(,3) mutant lifespan (days)  \\\n",
       "0                        mgDf47                                  10.5   \n",
       "1                         e1370                                  29.0   \n",
       "2                     e138;m634                                  16.6   \n",
       "\n",
       "   Double (triple) mutant (genes 1,2,(3)) lifespan (days)  \\\n",
       "0                                               12.4        \n",
       "1                                               35.0        \n",
       "2                                               16.6        \n",
       "\n",
       "                               Phenotype description  Organism  \n",
       "0  Lifespan extension by�hif-1�did not require DA...      6239  \n",
       "1  hif-1�RNAi further extended the lifespan of a�...      6239  \n",
       "2  Inhibition of�hif-1�by RNAi did not further ex...      6239  "
      ]
     },
     "execution_count": 179,
     "metadata": {},
     "output_type": "execute_result"
    }
   ],
   "source": [
    "C_ELEGANS_TAXID = 6239\n",
    "\n",
    "df = pd.read_csv(\"synergyage_database.csv\").iloc[:, :-1].copy()\n",
    "df.head(3)"
   ]
  },
  {
   "cell_type": "code",
   "execution_count": 180,
   "id": "cb27aff7-06a9-4b59-93f8-f5a81c205d26",
   "metadata": {},
   "outputs": [
    {
     "data": {
      "text/plain": [
       "(3391, 14)"
      ]
     },
     "execution_count": 180,
     "metadata": {},
     "output_type": "execute_result"
    }
   ],
   "source": [
    "df_celegans = df.loc[df['Organism'] == C_ELEGANS_TAXID]\n",
    "df_celegans.shape"
   ]
  },
  {
   "cell_type": "code",
   "execution_count": 181,
   "id": "99349adf-ccc2-4c81-a308-94d8e3b2e226",
   "metadata": {},
   "outputs": [
    {
     "name": "stderr",
     "output_type": "stream",
     "text": [
      "/home/eugen/miniconda3/envs/gnn/lib/python3.8/site-packages/pandas/core/indexing.py:1667: SettingWithCopyWarning: \n",
      "A value is trying to be set on a copy of a slice from a DataFrame.\n",
      "Try using .loc[row_indexer,col_indexer] = value instead\n",
      "\n",
      "See the caveats in the documentation: https://pandas.pydata.org/pandas-docs/stable/user_guide/indexing.html#returning-a-view-versus-a-copy\n",
      "  self.obj[key] = value\n"
     ]
    }
   ],
   "source": [
    "def clean_spaces_list_str(alist) -> list:\n",
    "    \"\"\"Remove white space, check if `,` and further split.\"\"\"\n",
    "    alist_augmented = []\n",
    "    for elem in alist:\n",
    "        if \",\" in elem:\n",
    "            alist_augmented += elem.split(\",\")\n",
    "        else:\n",
    "            alist_augmented.append(elem)\n",
    "        \n",
    "    alist_cleaned = []\n",
    "    for elem in alist_augmented:\n",
    "        if elem[0] == \" \":\n",
    "            alist_cleaned.append(elem[1:])\n",
    "        elif elem[-1] == \" \":\n",
    "            alist_cleaned.append(elem[:-1])\n",
    "        else:\n",
    "            alist_cleaned.append(elem)\n",
    "    return alist_cleaned\n",
    "\n",
    "\n",
    "INTERVENTION_GENES_1_COL = \"Gene 1\"\n",
    "INTERVENTION_GENES_2_COL = \"Gene(s) 2(,3)\"\n",
    "\n",
    "intervention_genes = []\n",
    "intervention_genes_str = []\n",
    "for i, row in df_celegans.iterrows():\n",
    "    genes_1 = row[INTERVENTION_GENES_1_COL].split(\";\")\n",
    "    genes_1 = clean_spaces_list_str(genes_1)\n",
    "            \n",
    "    genes_2 = row[INTERVENTION_GENES_2_COL].split(\";\")\n",
    "    genes_2 = clean_spaces_list_str(genes_2)\n",
    "    \n",
    "    sorted_l = sorted([*genes_1, *genes_2])\n",
    "    intervention_genes.append(tuple(sorted_l))\n",
    "    intervention_genes_str.append(\";\".join(sorted_l))\n",
    "\n",
    "df_celegans.loc[:, \"genes\"] = intervention_genes\n",
    "df_celegans.loc[:, \"genes_str\"] = intervention_genes_str\n",
    "df_celegans.loc[:, \"num_genes\"] = list(map(len, intervention_genes))"
   ]
  },
  {
   "cell_type": "code",
   "execution_count": 182,
   "id": "123caf4b-42b4-4037-bbdf-a07115ede7e1",
   "metadata": {},
   "outputs": [
    {
     "data": {
      "text/plain": [
       "<AxesSubplot:title={'center':'Number of genes intervened upon.'}, ylabel='Frequency'>"
      ]
     },
     "execution_count": 182,
     "metadata": {},
     "output_type": "execute_result"
    },
    {
     "data": {
      "image/png": "[encoded data removed]",
      "text/plain": [
       "<Figure size 432x288 with 1 Axes>"
      ]
     },
     "metadata": {
      "needs_background": "light"
     },
     "output_type": "display_data"
    }
   ],
   "source": [
    "df_celegans[\"num_genes\"].plot.hist(title=\"Number of genes intervened upon.\")"
   ]
  },
  {
   "cell_type": "code",
   "execution_count": 183,
   "id": "71e69fed-b39a-44ee-98b3-dab72b647494",
   "metadata": {},
   "outputs": [],
   "source": [
    "genes = reduce(lambda s1, s2: s1.union(s2), intervention_genes, set([]))"
   ]
  },
  {
   "cell_type": "code",
   "execution_count": 184,
   "id": "d72e99d4-795b-4f24-85a4-508a3783329e",
   "metadata": {},
   "outputs": [
    {
     "data": {
      "text/plain": [
       "<AxesSubplot:title={'center':'log2( # replicated combinations )'}, ylabel='Frequency'>"
      ]
     },
     "execution_count": 184,
     "metadata": {},
     "output_type": "execute_result"
    },
    {
     "data": {
      "image/png": "[encoded data removed]",
      "text/plain": [
       "<Figure size 432x288 with 1 Axes>"
      ]
     },
     "metadata": {
      "needs_background": "light"
     },
     "output_type": "display_data"
    }
   ],
   "source": [
    "# need remove duplicated interventions\n",
    "df_celegans[\"genes\"].value_counts().transform(np.log2).plot.hist(title=\"log2( # replicated combinations )\", bins=20)\n",
    "# plt.plot(df_celegans[\"genes\"].value_counts().values)"
   ]
  },
  {
   "cell_type": "code",
   "execution_count": 192,
   "id": "022558e1-5b83-4f3b-a66e-48290e407a9a",
   "metadata": {},
   "outputs": [
    {
     "name": "stderr",
     "output_type": "stream",
     "text": [
      "/home/eugen/miniconda3/envs/gnn/lib/python3.8/site-packages/pandas/core/indexing.py:1773: SettingWithCopyWarning: \n",
      "A value is trying to be set on a copy of a slice from a DataFrame.\n",
      "Try using .loc[row_indexer,col_indexer] = value instead\n",
      "\n",
      "See the caveats in the documentation: https://pandas.pydata.org/pandas-docs/stable/user_guide/indexing.html#returning-a-view-versus-a-copy\n",
      "  self._setitem_single_column(ilocs[0], value, pi)\n"
     ]
    }
   ],
   "source": [
    "BASELINE_LS_COL = \"Wild type lifespan (days)\"\n",
    "EFFECT_LS_COL = \"Double (triple) mutant (genes 1,2,(3)) lifespan (days)\"\n",
    "\n",
    "df_celegans.loc[df_celegans[BASELINE_LS_COL].isna(), BASELINE_LS_COL] = df_celegans[BASELINE_LS_COL].dropna().mean()\n",
    "assert df_celegans[BASELINE_LS_COL].isna().sum() == 0 and df_celegans[EFFECT_LS_COL].isna().sum() == 0\n",
    "df_celegans.loc[:, \"FC\"] = df_celegans[EFFECT_LS_COL] / df_celegans[BASELINE_LS_COL]\n",
    "df_celegans.loc[:, \"LOGFC\"] = np.log2(df_celegans[\"FC\"])\n",
    "df_celegans.loc[:, \"PERCENT_CHANGE\"] = (df_celegans[EFFECT_LS_COL] - df_celegans[BASELINE_LS_COL]) / df_celegans[BASELINE_LS_COL]"
   ]
  },
  {
   "cell_type": "code",
   "execution_count": 186,
   "id": "c5cccb42-f3f8-42fc-8648-0a3a00164b88",
   "metadata": {},
   "outputs": [
    {
     "data": {
      "text/plain": [
       "<AxesSubplot:title={'center':'log2(FC) distribution across all combinatorial interventions'}, ylabel='Frequency'>"
      ]
     },
     "execution_count": 186,
     "metadata": {},
     "output_type": "execute_result"
    },
    {
     "data": {
      "image/png": "[encoded data removed]",
      "text/plain": [
       "<Figure size 432x288 with 1 Axes>"
      ]
     },
     "metadata": {
      "needs_background": "light"
     },
     "output_type": "display_data"
    }
   ],
   "source": [
    "df_celegans[\"LOGFC\"].plot.hist(title=\"log2(FC) distribution across all combinatorial interventions\", bins=30)"
   ]
  },
  {
   "cell_type": "code",
   "execution_count": 193,
   "id": "2e503093-6c76-498e-b29c-f5e178d2213e",
   "metadata": {},
   "outputs": [
    {
     "data": {
      "text/plain": [
       "1494"
      ]
     },
     "execution_count": 193,
     "metadata": {},
     "output_type": "execute_result"
    }
   ],
   "source": [
    "(abs(df_celegans[\"LOGFC\"]) > 0.5).sum()"
   ]
  },
  {
   "cell_type": "code",
   "execution_count": 194,
   "id": "c77a7f3d-f374-4cfd-9d96-ba9f175e3fd9",
   "metadata": {},
   "outputs": [
    {
     "name": "stderr",
     "output_type": "stream",
     "text": [
      "/tmp/ipykernel_1000137/231847426.py:14: SettingWithCopyWarning: \n",
      "A value is trying to be set on a copy of a slice from a DataFrame.\n",
      "Try using .loc[row_indexer,col_indexer] = value instead\n",
      "\n",
      "See the caveats in the documentation: https://pandas.pydata.org/pandas-docs/stable/user_guide/indexing.html#returning-a-view-versus-a-copy\n",
      "  df_celegans[\"LIFESPAN_CLASS\"] = np.select(conditions, values)\n"
     ]
    }
   ],
   "source": [
    "LOGFC_CUTOFF = 0.5\n",
    "\n",
    "conditions = [\n",
    "    ( abs(df_celegans[\"LOGFC\"]) <= 0.2 ),\n",
    "    ( df_celegans[\"LOGFC\"] > 0.2 ),\n",
    "    ( df_celegans[\"LOGFC\"] < -0.2 ),\n",
    "]\n",
    "values = INTERVENTION_CLASSES\n",
    "\n",
    "df_celegans[\"LIFESPAN_CLASS\"] = np.select(conditions, values)"
   ]
  },
  {
   "cell_type": "code",
   "execution_count": 195,
   "id": "d044f0a0-f3d0-47cd-bdc1-c22a2094b76b",
   "metadata": {},
   "outputs": [],
   "source": [
    "df_celegans.to_csv(\"synergyage_database_augmented.tsv\", sep=\"\\t\")"
   ]
  },
  {
   "cell_type": "code",
   "execution_count": null,
   "id": "2337a185-af3a-47ae-8422-48f36893bb8d",
   "metadata": {},
   "outputs": [],
   "source": []
  }
 ],
 "metadata": {
  "kernelspec": {
   "display_name": "Python 3 (ipykernel)",
   "language": "python",
   "name": "python3"
  },
  "language_info": {
   "codemirror_mode": {
    "name": "ipython",
    "version": 3
   },
   "file_extension": ".py",
   "mimetype": "text/x-python",
   "name": "python",
   "nbconvert_exporter": "python",
   "pygments_lexer": "ipython3",
   "version": "3.8.12"
  }
 },
 "nbformat": 4,
 "nbformat_minor": 5
}
